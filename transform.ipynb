{
 "cells": [
  {
   "cell_type": "code",
   "execution_count": null,
   "id": "3cc40916",
   "metadata": {},
   "outputs": [],
   "source": [
    "import json\n",
    "import pandas as pd"
   ]
  },
  {
   "cell_type": "code",
   "execution_count": null,
   "id": "173f5c2f",
   "metadata": {},
   "outputs": [],
   "source": [
    "file_path = r\"C:\\Users\\Labee\\onedrive\\desktop\\Projects\\REal-State-Project\\data\\raw\\properties_data_San Antonio_TX.json\"\n",
    "with open(file_path, \"r\") as f:\n",
    "    data =json.load(f)"
   ]
  },
  {
   "cell_type": "code",
   "execution_count": null,
   "id": "75803431",
   "metadata": {},
   "outputs": [],
   "source": [
    "print(len(data))"
   ]
  },
  {
   "cell_type": "markdown",
   "id": "c64f134a",
   "metadata": {},
   "source": [
    "nomarlize data"
   ]
  },
  {
   "cell_type": "code",
   "execution_count": null,
   "id": "c1ba3d0b",
   "metadata": {},
   "outputs": [],
   "source": [
    "df = pd.json_normalize(data)\n",
    "print(df.head(2))"
   ]
  },
  {
   "cell_type": "code",
   "execution_count": null,
   "id": "7144b04a",
   "metadata": {},
   "outputs": [],
   "source": [
    "df.columns"
   ]
  },
  {
   "cell_type": "code",
   "execution_count": null,
   "id": "2a79ce2a",
   "metadata": {},
   "outputs": [],
   "source": [
    "columns = [ 'id', 'formattedAddress', 'city',\n",
    "       'state', 'stateFips', 'zipCode', 'county', 'countyFips', 'latitude', 'longitude', 'propertyType', 'bedrooms', 'bathrooms', 'squareFootage', 'yearBuilt']"
   ]
  },
  {
   "cell_type": "code",
   "execution_count": null,
   "id": "a8e26e01",
   "metadata": {},
   "outputs": [],
   "source": [
    "columns\n"
   ]
  },
  {
   "cell_type": "code",
   "execution_count": null,
   "id": "b1929ccb",
   "metadata": {},
   "outputs": [],
   "source": [
    "df = df[columns]\n",
    "print(df)"
   ]
  },
  {
   "cell_type": "code",
   "execution_count": null,
   "id": "d2f601af",
   "metadata": {},
   "outputs": [],
   "source": [
    "df .rename(columns={\n",
    "    'formattedAddress' : 'address',\n",
    "    'zipCode' :  'zip_code',\n",
    "    'stateFips' : 'state_fips',\n",
    "    'countyFips': 'county_Fips',\n",
    "    'propertyType' : 'property_type',\n",
    "    'squareFootage' : 'square_footage', \n",
    "    'yearBuilt' : 'year_built'} , inplace=True)"
   ]
  },
  {
   "cell_type": "code",
   "execution_count": 31,
   "id": "01ed9dd5",
   "metadata": {},
   "outputs": [],
   "source": [
    "df.to_csv(\"data/transformed/properties_data_SanAntonio_TX.csv\", index = False)"
   ]
  }
 ],
 "metadata": {
  "kernelspec": {
   "display_name": "base",
   "language": "python",
   "name": "python3"
  },
  "language_info": {
   "codemirror_mode": {
    "name": "ipython",
    "version": 3
   },
   "file_extension": ".py",
   "mimetype": "text/x-python",
   "name": "python",
   "nbconvert_exporter": "python",
   "pygments_lexer": "ipython3",
   "version": "3.13.5"
  }
 },
 "nbformat": 4,
 "nbformat_minor": 5
}

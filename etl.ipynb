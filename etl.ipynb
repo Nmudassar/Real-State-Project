{
 "cells": [
  {
   "cell_type": "code",
   "execution_count": null,
   "id": "f3ba4191",
   "metadata": {},
   "outputs": [],
   "source": [
    "# utils_http.py\n",
    "# Assumes `requests` is already imported in the notebook environment.\n",
    "\n",
    "def fetch_json(url, params=None, headers=None, timeout=10):\n",
    "    \"\"\"\n",
    "    Perform a GET request and return parsed JSON.\n",
    "    Raises requests.HTTPError on non-2xx responses or ValueError on invalid JSON.\n",
    "    \"\"\"\n",
    "    resp = requests.get(url, params=params, headers=headers, timeout=timeout)\n",
    "    resp.raise_for_status()\n",
    "    return resp.json()\n",
    "\n",
    "def download_file(url, dest_path, chunk_size=8192, headers=None, timeout=30):\n",
    "    \"\"\"\n",
    "    Stream-download a file from `url` to `dest_path`.\n",
    "    Returns dest_path on success.\n",
    "    \"\"\"\n",
    "    with requests.get(url, stream=True, headers=headers, timeout=timeout) as r:\n",
    "        r.raise_for_status()\n",
    "        with open(dest_path, \"wb\") as f:\n",
    "            for chunk in r.iter_content(chunk_size=chunk_size):\n",
    "                if chunk:\n",
    "                    f.write(chunk)\n",
    "    return dest_path\n",
    "\n",
    "def post_json(url, data=None, json=None, headers=None, timeout=10):\n",
    "    \"\"\"\n",
    "    POST data (form or JSON) and return parsed JSON response.\n",
    "    \"\"\"\n",
    "    resp = requests.post(url, data=data, json=json, headers=headers, timeout=timeout)\n",
    "    resp.raise_for_status()\n",
    "    return resp.json()"
   ]
  }
 ],
 "metadata": {
  "language_info": {
   "name": "python"
  }
 },
 "nbformat": 4,
 "nbformat_minor": 5
}
